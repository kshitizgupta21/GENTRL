{
 "cells": [
  {
   "cell_type": "code",
   "execution_count": 1,
   "metadata": {},
   "outputs": [],
   "source": [
    "import torch\n",
    "from torch.utils.data import DataLoader\n",
    "import gentrl\n",
    "import gentrl.lp\n",
    "from gentrl.tokenizer import encode, get_vocab_size\n",
    "from gentrl.new_dataloader import NewMolecularDataset\n",
    "import time"
   ]
  },
  {
   "cell_type": "markdown",
   "metadata": {},
   "source": [
    "## Set GPU"
   ]
  },
  {
   "cell_type": "code",
   "execution_count": 2,
   "metadata": {},
   "outputs": [],
   "source": [
    "torch.cuda.set_device(3)"
   ]
  },
  {
   "cell_type": "code",
   "execution_count": 3,
   "metadata": {},
   "outputs": [],
   "source": [
    "RANDOM_SEED = 42"
   ]
  },
  {
   "cell_type": "code",
   "execution_count": 4,
   "metadata": {},
   "outputs": [],
   "source": [
    "enc = gentrl.RNNEncoder(latent_size=50)\n",
    "dec = gentrl.DilConvDecoder(latent_input_size=50)\n",
    "model = gentrl.GENTRL(enc, dec, latent_descr=50 * [('c', 20)], feature_descr=[('c', 20)], beta=0.001)\n",
    "# this moves the model to GPU\n",
    "model.to('cuda');"
   ]
  },
  {
   "cell_type": "code",
   "execution_count": 5,
   "metadata": {},
   "outputs": [],
   "source": [
    "device = torch.device('cuda')"
   ]
  },
  {
   "cell_type": "code",
   "execution_count": 6,
   "metadata": {},
   "outputs": [],
   "source": [
    "md = NewMolecularDataset(device=device,\n",
    "    sources=[\n",
    "    {'path':'train_subset_100_000.csv',\n",
    "     'smiles': 'SMILES',\n",
    "     'prob': 1,\n",
    "     'plogP' : 'plogP',\n",
    "    }], \n",
    "    props=['plogP'])"
   ]
  },
  {
   "cell_type": "code",
   "execution_count": 7,
   "metadata": {},
   "outputs": [],
   "source": [
    "gpu_dataset = md.create_tensor_dataset()"
   ]
  },
  {
   "cell_type": "code",
   "execution_count": 8,
   "metadata": {},
   "outputs": [],
   "source": [
    "BATCH_SIZE = 50\n",
    "LR = 1e-4\n",
    "NUM_EPOCHS = 1\n",
    "NUM_WORKERS = 0\n",
    "PIN_MEMORY= False"
   ]
  },
  {
   "cell_type": "code",
   "execution_count": 9,
   "metadata": {},
   "outputs": [],
   "source": [
    "train_loader = DataLoader(gpu_dataset, batch_size=BATCH_SIZE, shuffle=True, num_workers=NUM_WORKERS, pin_memory=PIN_MEMORY, drop_last=True)"
   ]
  },
  {
   "cell_type": "code",
   "execution_count": 10,
   "metadata": {},
   "outputs": [
    {
     "name": "stdout",
     "output_type": "stream",
     "text": [
      "Epoch 0 :\n",
      "loss: 2.488;rec: -2.4;kl: -64.57;log_p_y_by_z: -1.526;log_p_z_by_y: -70.97;\n",
      "loss: 1.79;rec: -1.689;kl: -50.16;log_p_y_by_z: -1.512;log_p_z_by_y: -55.86;\n",
      "loss: 1.53;rec: -1.417;kl: -37.85;log_p_y_by_z: -1.511;log_p_z_by_y: -45.38;\n",
      "loss: 1.397;rec: -1.279;kl: -33.24;log_p_y_by_z: -1.513;log_p_z_by_y: -43.06;\n",
      "loss: 1.299;rec: -1.188;kl: -30.75;log_p_y_by_z: -1.416;log_p_z_by_y: -42.78;\n",
      "loss: 1.232;rec: -1.127;kl: -29.62;log_p_y_by_z: -1.345;log_p_z_by_y: -43.42;\n",
      "loss: 1.168;rec: -1.068;kl: -27.41;log_p_y_by_z: -1.268;log_p_z_by_y: -43.46;\n",
      "loss: 1.128;rec: -1.041;kl: -26.17;log_p_y_by_z: -1.126;log_p_z_by_y: -43.61;\n",
      "loss: 1.09;rec: -1.006;kl: -24.57;log_p_y_by_z: -1.084;log_p_z_by_y: -44.68;\n",
      "loss: 1.061;rec: -0.9886;kl: -24.18;log_p_y_by_z: -0.9637;log_p_z_by_y: -44.51;\n",
      "loss: 1.032;rec: -0.9661;kl: -24.15;log_p_y_by_z: -0.9058;log_p_z_by_y: -44.81;\n",
      "loss: 1.022;rec: -0.9567;kl: -23.36;log_p_y_by_z: -0.8832;log_p_z_by_y: -45.17;\n",
      "loss: 0.9886;rec: -0.929;kl: -22.44;log_p_y_by_z: -0.8203;log_p_z_by_y: -45.11;\n",
      "loss: 0.9704;rec: -0.908;kl: -22.05;log_p_y_by_z: -0.8444;log_p_z_by_y: -45.38;\n",
      "loss: 0.9545;rec: -0.8998;kl: -21.35;log_p_y_by_z: -0.76;log_p_z_by_y: -45.93;\n",
      "loss: 0.9317;rec: -0.8742;kl: -20.87;log_p_y_by_z: -0.784;log_p_z_by_y: -45.77;\n",
      "loss: 0.9269;rec: -0.8734;kl: -20.56;log_p_y_by_z: -0.7403;log_p_z_by_y: -45.73;\n",
      "loss: 0.9126;rec: -0.863;kl: -19.68;log_p_y_by_z: -0.6932;log_p_z_by_y: -45.86;\n",
      "loss: 0.9022;rec: -0.8471;kl: -19.7;log_p_y_by_z: -0.7474;log_p_z_by_y: -45.94;\n",
      "loss: 0.8988;rec: -0.8484;kl: -19.82;log_p_y_by_z: -0.7023;log_p_z_by_y: -46.15;\n",
      "loss: 0.8823;rec: -0.8356;kl: -19.58;log_p_y_by_z: -0.6635;log_p_z_by_y: -46.27;\n",
      "loss: 0.8642;rec: -0.8196;kl: -19.2;log_p_y_by_z: -0.6381;log_p_z_by_y: -46.71;\n",
      "loss: 0.8609;rec: -0.8149;kl: -20.05;log_p_y_by_z: -0.66;log_p_z_by_y: -47.08;\n",
      "loss: 0.854;rec: -0.8123;kl: -20.22;log_p_y_by_z: -0.6192;log_p_z_by_y: -46.88;\n",
      "loss: 0.8445;rec: -0.8054;kl: -19.2;log_p_y_by_z: -0.5838;log_p_z_by_y: -46.86;\n",
      "loss: 0.8403;rec: -0.7986;kl: -19.73;log_p_y_by_z: -0.6148;log_p_z_by_y: -47.64;\n",
      "loss: 0.8251;rec: -0.7891;kl: -18.86;log_p_y_by_z: -0.5493;log_p_z_by_y: -47.76;\n",
      "loss: 0.8245;rec: -0.7894;kl: -18.44;log_p_y_by_z: -0.5348;log_p_z_by_y: -47.79;\n",
      "loss: 0.8025;rec: -0.7704;kl: -17.72;log_p_y_by_z: -0.4986;log_p_z_by_y: -47.81;\n",
      "loss: 0.7996;rec: -0.7682;kl: -17.62;log_p_y_by_z: -0.4899;log_p_z_by_y: -48.24;\n",
      "loss: 0.8012;rec: -0.7631;kl: -17.43;log_p_y_by_z: -0.5562;log_p_z_by_y: -48.93;\n",
      "loss: 0.7819;rec: -0.7523;kl: -17.36;log_p_y_by_z: -0.4703;log_p_z_by_y: -48.62;\n",
      "loss: 0.7781;rec: -0.7534;kl: -16.24;log_p_y_by_z: -0.4096;log_p_z_by_y: -48.67;\n",
      "loss: 0.7735;rec: -0.7467;kl: -16.12;log_p_y_by_z: -0.4291;log_p_z_by_y: -49.0;\n",
      "loss: 0.7666;rec: -0.7419;kl: -15.36;log_p_y_by_z: -0.401;log_p_z_by_y: -49.06;\n",
      "loss: 0.7669;rec: -0.7369;kl: -15.49;log_p_y_by_z: -0.4545;log_p_z_by_y: -49.79;\n",
      "loss: 0.7584;rec: -0.7318;kl: -15.68;log_p_y_by_z: -0.422;log_p_z_by_y: -50.57;\n",
      "loss: 0.7383;rec: -0.7165;kl: -14.93;log_p_y_by_z: -0.3678;log_p_z_by_y: -50.32;\n",
      "Time Taken is 11.947809624671937 min\n"
     ]
    }
   ],
   "source": [
    "start_time = time.time()\n",
    "model.train_as_vaelp(train_loader, lr=LR, num_epochs=NUM_EPOCHS)\n",
    "end_time = time.time()\n",
    "duration = end_time - start_time\n",
    "print(f\"Time Taken is {duration/60} min\")"
   ]
  },
  {
   "cell_type": "code",
   "execution_count": null,
   "metadata": {},
   "outputs": [],
   "source": [
    "# from moses.metrics import mol_passes_filters, QED, SA, logP\n",
    "# from moses.metrics.utils import get_n_rings, get_mol\n",
    "\n",
    "\n",
    "# def get_num_rings_6(mol):\n",
    "#     r = mol.GetRingInfo()\n",
    "#     return len([x for x in r.AtomRings() if len(x) > 6])\n",
    "\n",
    "\n",
    "# def penalized_logP(mol_or_smiles, masked=False, default=-5):\n",
    "#     mol = get_mol(mol_or_smiles)\n",
    "#     if mol is None:\n",
    "#         return default\n",
    "#     reward = logP(mol) - SA(mol) - get_num_rings_6(mol)\n",
    "#     if masked and not mol_passes_filters(mol):\n",
    "#         return default\n",
    "#     return reward"
   ]
  },
  {
   "cell_type": "code",
   "execution_count": null,
   "metadata": {},
   "outputs": [],
   "source": [
    "# df = pd.read_csv('dataset_v1.csv')\n",
    "# df = df[df['SPLIT'] == 'train']\n",
    "# df['plogP'] = df['SMILES'].apply(penalized_logP)\n",
    "# df.to_csv('train_plogp_plogpm.csv', index=None)"
   ]
  },
  {
   "cell_type": "code",
   "execution_count": null,
   "metadata": {},
   "outputs": [],
   "source": [
    "# ! mkdir -p saved_gentrl"
   ]
  },
  {
   "cell_type": "code",
   "execution_count": null,
   "metadata": {},
   "outputs": [],
   "source": [
    "# model.save('./saved_gentrl/')"
   ]
  }
 ],
 "metadata": {
  "kernelspec": {
   "display_name": "Python 3",
   "language": "python",
   "name": "python3"
  },
  "language_info": {
   "codemirror_mode": {
    "name": "ipython",
    "version": 3
   },
   "file_extension": ".py",
   "mimetype": "text/x-python",
   "name": "python",
   "nbconvert_exporter": "python",
   "pygments_lexer": "ipython3",
   "version": "3.7.9"
  }
 },
 "nbformat": 4,
 "nbformat_minor": 4
}
