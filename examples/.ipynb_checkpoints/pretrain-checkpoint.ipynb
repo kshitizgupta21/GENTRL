{
 "cells": [
  {
   "cell_type": "code",
   "execution_count": 1,
   "metadata": {},
   "outputs": [],
   "source": [
    "import torch\n",
    "from torch.utils.data import DataLoader\n",
    "import gentrl\n",
    "import gentrl.lp\n",
    "from gentrl.tokenizer import encode, get_vocab_size\n",
    "from gentrl.new_dataloader import NewMolecularDataset\n",
    "import time\n",
    "import torch.multiprocessing as mp"
   ]
  },
  {
   "cell_type": "markdown",
   "metadata": {},
   "source": [
    "## Set GPU"
   ]
  },
  {
   "cell_type": "code",
   "execution_count": 2,
   "metadata": {},
   "outputs": [],
   "source": [
    "torch.cuda.set_device(3)"
   ]
  },
  {
   "cell_type": "code",
   "execution_count": 3,
   "metadata": {},
   "outputs": [],
   "source": [
    "RANDOM_SEED = 42"
   ]
  },
  {
   "cell_type": "code",
   "execution_count": 4,
   "metadata": {},
   "outputs": [],
   "source": [
    "enc = gentrl.RNNEncoder(latent_size=50)\n",
    "dec = gentrl.DilConvDecoder(latent_input_size=50)\n",
    "model = gentrl.GENTRL(enc, dec, latent_descr=50 * [('c', 20)], feature_descr=[('c', 20)], beta=0.001)\n",
    "# this moves the model to GPU\n",
    "model.to('cuda');"
   ]
  },
  {
   "cell_type": "code",
   "execution_count": 5,
   "metadata": {},
   "outputs": [],
   "source": [
    "device = torch.device('cuda')"
   ]
  },
  {
   "cell_type": "code",
   "execution_count": 6,
   "metadata": {},
   "outputs": [],
   "source": [
    "md = NewMolecularDataset(device=device,\n",
    "    sources=[\n",
    "    {'path':'train_plogp_plogpm.csv',\n",
    "     'smiles': 'SMILES',\n",
    "     'prob': 1,\n",
    "     'plogP' : 'plogP',\n",
    "    }], \n",
    "    props=['plogP'])"
   ]
  },
  {
   "cell_type": "code",
   "execution_count": 7,
   "metadata": {},
   "outputs": [],
   "source": [
    "gpu_dataset = md.create_tensor_dataset()"
   ]
  },
  {
   "cell_type": "code",
   "execution_count": 8,
   "metadata": {},
   "outputs": [],
   "source": [
    "BATCH_SIZE = 512\n",
    "LR = 1e-4\n",
    "NUM_EPOCHS = 1\n",
    "NUM_WORKERS = 0\n",
    "PIN_MEMORY= False"
   ]
  },
  {
   "cell_type": "code",
   "execution_count": 9,
   "metadata": {},
   "outputs": [],
   "source": [
    "train_loader = DataLoader(gpu_dataset,\n",
    "                      batch_size=BATCH_SIZE,\n",
    "                      shuffle=True,\n",
    "                      num_workers=NUM_WORKERS,\n",
    "                      pin_memory=PIN_MEMORY,\n",
    "                      drop_last=True)    "
   ]
  },
  {
   "cell_type": "code",
   "execution_count": 10,
   "metadata": {},
   "outputs": [
    {
     "name": "stdout",
     "output_type": "stream",
     "text": [
      "Epoch 0 :\n",
      "loss: 2.619;rec: -2.532;kl: -65.83;log_p_y_by_z: -1.527;log_p_z_by_y: -69.82;\n",
      "loss: 1.843;rec: -1.741;kl: -49.16;log_p_y_by_z: -1.518;log_p_z_by_y: -52.89;\n",
      "loss: 1.511;rec: -1.396;kl: -34.41;log_p_y_by_z: -1.492;log_p_z_by_y: -40.24;\n",
      "loss: 1.314;rec: -1.212;kl: -27.66;log_p_y_by_z: -1.304;log_p_z_by_y: -38.73;\n",
      "loss: 1.175;rec: -1.1;kl: -23.55;log_p_y_by_z: -0.9842;log_p_z_by_y: -37.69;\n",
      "loss: 1.084;rec: -1.023;kl: -20.61;log_p_y_by_z: -0.8156;log_p_z_by_y: -37.03;\n",
      "loss: 1.025;rec: -0.969;kl: -18.4;log_p_y_by_z: -0.7396;log_p_z_by_y: -36.43;\n",
      "loss: 0.9764;rec: -0.9257;kl: -16.74;log_p_y_by_z: -0.6749;log_p_z_by_y: -36.16;\n",
      "loss: 0.9379;rec: -0.8927;kl: -15.29;log_p_y_by_z: -0.6057;log_p_z_by_y: -36.07;\n",
      "loss: 0.9057;rec: -0.8644;kl: -14.08;log_p_y_by_z: -0.5544;log_p_z_by_y: -36.31;\n",
      "loss: 0.8817;rec: -0.8415;kl: -13.41;log_p_y_by_z: -0.5366;log_p_z_by_y: -36.54;\n",
      "loss: 0.8533;rec: -0.8194;kl: -12.62;log_p_y_by_z: -0.465;log_p_z_by_y: -36.58;\n",
      "loss: 0.8351;rec: -0.8007;kl: -12.4;log_p_y_by_z: -0.4681;log_p_z_by_y: -36.85;\n",
      "loss: 0.8155;rec: -0.785;kl: -11.82;log_p_y_by_z: -0.4236;log_p_z_by_y: -37.19;\n",
      "loss: 0.7971;rec: -0.7695;kl: -11.13;log_p_y_by_z: -0.3882;log_p_z_by_y: -37.33;\n",
      "loss: 0.7827;rec: -0.7561;kl: -10.74;log_p_y_by_z: -0.3729;log_p_z_by_y: -37.81;\n",
      "loss: 0.7677;rec: -0.7437;kl: -9.897;log_p_y_by_z: -0.3387;log_p_z_by_y: -37.94;\n",
      "loss: 0.754;rec: -0.7308;kl: -9.557;log_p_y_by_z: -0.3271;log_p_z_by_y: -38.44;\n",
      "loss: 0.7419;rec: -0.7183;kl: -8.554;log_p_y_by_z: -0.3216;log_p_z_by_y: -38.61;\n",
      "loss: 0.7267;rec: -0.7048;kl: -7.622;log_p_y_by_z: -0.2956;log_p_z_by_y: -38.92;\n",
      "loss: 0.7189;rec: -0.6976;kl: -7.06;log_p_y_by_z: -0.2829;log_p_z_by_y: -39.18;\n",
      "loss: 0.7036;rec: -0.6848;kl: -6.55;log_p_y_by_z: -0.2535;log_p_z_by_y: -39.42;\n",
      "loss: 0.6981;rec: -0.6786;kl: -6.175;log_p_y_by_z: -0.2567;log_p_z_by_y: -39.82;\n",
      "loss: 0.6899;rec: -0.669;kl: -5.83;log_p_y_by_z: -0.2671;log_p_z_by_y: -40.37;\n",
      "loss: 0.681;rec: -0.6634;kl: -5.334;log_p_y_by_z: -0.2296;log_p_z_by_y: -40.68;\n",
      "loss: 0.6714;rec: -0.6537;kl: -4.71;log_p_y_by_z: -0.2237;log_p_z_by_y: -40.92;\n",
      "loss: 0.6637;rec: -0.6473;kl: -4.328;log_p_y_by_z: -0.2071;log_p_z_by_y: -41.1;\n",
      "loss: 0.656;rec: -0.6395;kl: -4.008;log_p_y_by_z: -0.2045;log_p_z_by_y: -41.51;\n",
      "loss: 0.645;rec: -0.6326;kl: -3.893;log_p_y_by_z: -0.1629;log_p_z_by_y: -41.93;\n",
      "loss: 0.6405;rec: -0.6267;kl: -3.39;log_p_y_by_z: -0.1716;log_p_z_by_y: -42.32;\n",
      "loss: 0.6322;rec: -0.6189;kl: -3.073;log_p_y_by_z: -0.1635;log_p_z_by_y: -42.6;\n",
      "loss: 0.6264;rec: -0.6142;kl: -2.642;log_p_y_by_z: -0.1485;log_p_z_by_y: -42.79;\n",
      "loss: 0.6185;rec: -0.607;kl: -2.582;log_p_y_by_z: -0.1402;log_p_z_by_y: -43.12;\n",
      "loss: 0.6143;rec: -0.5998;kl: -2.234;log_p_y_by_z: -0.1671;log_p_z_by_y: -43.53;\n",
      "loss: 0.6053;rec: -0.5953;kl: -1.68;log_p_y_by_z: -0.1175;log_p_z_by_y: -43.73;\n",
      "loss: 0.6015;rec: -0.5908;kl: -1.417;log_p_y_by_z: -0.1209;log_p_z_by_y: -44.07;\n",
      "loss: 0.5993;rec: -0.5871;kl: -1.649;log_p_y_by_z: -0.1385;log_p_z_by_y: -44.56;\n",
      "loss: 0.5867;rec: -0.5776;kl: -0.8438;log_p_y_by_z: -0.09965;log_p_z_by_y: -44.68;\n",
      "loss: 0.5853;rec: -0.5758;kl: -0.5325;log_p_y_by_z: -0.1005;log_p_z_by_y: -44.89;\n",
      "loss: 0.5803;rec: -0.5709;kl: -0.6627;log_p_y_by_z: -0.1003;log_p_z_by_y: -45.32;\n",
      "loss: 0.5691;rec: -0.5624;kl: -0.3149;log_p_y_by_z: -0.07029;log_p_z_by_y: -45.59;\n",
      "loss: 0.5722;rec: -0.5611;kl: -0.1276;log_p_y_by_z: -0.113;log_p_z_by_y: -45.91;\n",
      "loss: 0.5642;rec: -0.5569;kl: 0.1682;log_p_y_by_z: -0.07082;log_p_z_by_y: -46.12;\n",
      "loss: 0.5587;rec: -0.5519;kl: 0.3844;log_p_y_by_z: -0.06365;log_p_z_by_y: -46.53;\n",
      "loss: 0.554;rec: -0.5475;kl: 0.3951;log_p_y_by_z: -0.0611;log_p_z_by_y: -46.87;\n",
      "loss: 0.551;rec: -0.5446;kl: 0.7736;log_p_y_by_z: -0.05558;log_p_z_by_y: -47.15;\n",
      "loss: 0.5418;rec: -0.5378;kl: 0.9854;log_p_y_by_z: -0.03038;log_p_z_by_y: -47.44;\n",
      "loss: 0.5409;rec: -0.5338;kl: 1.306;log_p_y_by_z: -0.05848;log_p_z_by_y: -47.75;\n",
      "loss: 0.5317;rec: -0.5292;kl: 1.316;log_p_y_by_z: -0.01239;log_p_z_by_y: -47.86;\n",
      "loss: 0.5313;rec: -0.5271;kl: 1.583;log_p_y_by_z: -0.02527;log_p_z_by_y: -48.33;\n",
      "loss: 0.5306;rec: -0.5244;kl: 1.671;log_p_y_by_z: -0.04552;log_p_z_by_y: -48.6;\n",
      "loss: 0.5203;rec: -0.518;kl: 1.729;log_p_y_by_z: -0.005777;log_p_z_by_y: -48.82;\n",
      "loss: 0.515;rec: -0.5145;kl: 1.911;log_p_y_by_z: 0.0133;log_p_z_by_y: -49.2;\n",
      "loss: 0.5153;rec: -0.5122;kl: 2.442;log_p_y_by_z: -0.006819;log_p_z_by_y: -49.24;\n",
      "loss: 0.5108;rec: -0.5095;kl: 2.52;log_p_y_by_z: 0.01175;log_p_z_by_y: -49.53;\n",
      "loss: 0.5024;rec: -0.5025;kl: 2.637;log_p_y_by_z: 0.028;log_p_z_by_y: -49.85;\n",
      "loss: 0.5036;rec: -0.502;kl: 2.428;log_p_y_by_z: 0.008124;log_p_z_by_y: -50.14;\n",
      "loss: 0.4951;rec: -0.4965;kl: 2.631;log_p_y_by_z: 0.04006;log_p_z_by_y: -50.33;\n",
      "loss: 0.4918;rec: -0.4926;kl: 2.735;log_p_y_by_z: 0.03568;log_p_z_by_y: -50.75;\n",
      "loss: 0.4919;rec: -0.4903;kl: 3.167;log_p_y_by_z: 0.0147;log_p_z_by_y: -50.97;\n",
      "loss: 0.4907;rec: -0.4899;kl: 3.178;log_p_y_by_z: 0.02473;log_p_z_by_y: -51.14;\n",
      "loss: 0.4822;rec: -0.4835;kl: 3.328;log_p_y_by_z: 0.04608;log_p_z_by_y: -51.42;\n",
      "Time Taken is 27.94810671011607 min\n"
     ]
    }
   ],
   "source": [
    "start_time = time.time()\n",
    "model.train_as_vaelp(train_loader, lr=LR, num_epochs=NUM_EPOCHS)\n",
    "end_time = time.time()\n",
    "duration = end_time - start_time\n",
    "print(f\"Time Taken is {duration/60} min\")"
   ]
  },
  {
   "cell_type": "code",
   "execution_count": null,
   "metadata": {},
   "outputs": [],
   "source": [
    "# from moses.metrics import mol_passes_filters, QED, SA, logP\n",
    "# from moses.metrics.utils import get_n_rings, get_mol\n",
    "\n",
    "\n",
    "# def get_num_rings_6(mol):\n",
    "#     r = mol.GetRingInfo()\n",
    "#     return len([x for x in r.AtomRings() if len(x) > 6])\n",
    "\n",
    "\n",
    "# def penalized_logP(mol_or_smiles, masked=False, default=-5):\n",
    "#     mol = get_mol(mol_or_smiles)\n",
    "#     if mol is None:\n",
    "#         return default\n",
    "#     reward = logP(mol) - SA(mol) - get_num_rings_6(mol)\n",
    "#     if masked and not mol_passes_filters(mol):\n",
    "#         return default\n",
    "#     return reward"
   ]
  },
  {
   "cell_type": "code",
   "execution_count": null,
   "metadata": {},
   "outputs": [],
   "source": [
    "# df = pd.read_csv('dataset_v1.csv')\n",
    "# df = df[df['SPLIT'] == 'train']\n",
    "# df['plogP'] = df['SMILES'].apply(penalized_logP)\n",
    "# df.to_csv('train_plogp_plogpm.csv', index=None)"
   ]
  },
  {
   "cell_type": "code",
   "execution_count": null,
   "metadata": {},
   "outputs": [],
   "source": [
    "# ! mkdir -p saved_gentrl"
   ]
  },
  {
   "cell_type": "code",
   "execution_count": null,
   "metadata": {},
   "outputs": [],
   "source": [
    "# model.save('./saved_gentrl/')"
   ]
  }
 ],
 "metadata": {
  "kernelspec": {
   "display_name": "Python 3",
   "language": "python",
   "name": "python3"
  },
  "language_info": {
   "codemirror_mode": {
    "name": "ipython",
    "version": 3
   },
   "file_extension": ".py",
   "mimetype": "text/x-python",
   "name": "python",
   "nbconvert_exporter": "python",
   "pygments_lexer": "ipython3",
   "version": "3.7.9"
  }
 },
 "nbformat": 4,
 "nbformat_minor": 4
}
