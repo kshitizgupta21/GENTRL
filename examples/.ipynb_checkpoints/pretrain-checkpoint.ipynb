{
 "cells": [
  {
   "cell_type": "code",
   "execution_count": 1,
   "metadata": {},
   "outputs": [],
   "source": [
    "import gentrl\n",
    "import torch\n",
    "import pandas as pd\n",
    "import time\n",
    "from torch.utils.data import DataLoader\n",
    "torch.cuda.set_device(3)"
   ]
  },
  {
   "cell_type": "code",
   "execution_count": 2,
   "metadata": {},
   "outputs": [],
   "source": [
    "enc = gentrl.RNNEncoder(latent_size=50)\n",
    "dec = gentrl.DilConvDecoder(latent_input_size=50)\n",
    "model = gentrl.GENTRL(enc, dec, 50 * [('c', 20)], [('c', 20)], beta=0.001)\n",
    "model.cuda();"
   ]
  },
  {
   "cell_type": "code",
   "execution_count": 3,
   "metadata": {},
   "outputs": [],
   "source": [
    "md = gentrl.MolecularDataset(sources=[\n",
    "    {'path':'train_plogp_plogpm.csv',\n",
    "     'smiles': 'SMILES',\n",
    "     'prob': 1,\n",
    "     'plogP' : 'plogP',\n",
    "    }], \n",
    "    props=['plogP'])"
   ]
  },
  {
   "cell_type": "code",
   "execution_count": 4,
   "metadata": {},
   "outputs": [],
   "source": [
    "batch_size = 512\n",
    "num_workers = 8\n",
    "pin_memory = True\n",
    "lr = 1e-4\n",
    "num_epochs = 1"
   ]
  },
  {
   "cell_type": "code",
   "execution_count": 5,
   "metadata": {},
   "outputs": [],
   "source": [
    "train_loader = DataLoader(md, batch_size=batch_size,\n",
    "                          shuffle=True, num_workers=num_workers,\n",
    "                          pin_memory=pin_memory, drop_last=True)"
   ]
  },
  {
   "cell_type": "code",
   "execution_count": 6,
   "metadata": {},
   "outputs": [
    {
     "name": "stdout",
     "output_type": "stream",
     "text": [
      "Epoch 0 :\n",
      "!!!!!!!!!!!!!!!!!!!!!!!!!!!!!!!!!!!!!!!!!!!!!!!!!!loss: 2.694;rec: -2.609;kl: -66.05;log_p_y_by_z: -1.51;log_p_z_by_y: -70.09;\n",
      "!!!!!!!!!!!!!!!!!!!!!!!!!!!!!!!!!!!!!!!!!!!!!!!!!!loss: 1.825;rec: -1.722;kl: -48.2;log_p_y_by_z: -1.508;log_p_z_by_y: -52.58;\n",
      "!!!!!!!!!!!!!!!!!!!!!!!!!!!!!!!!!!!!!!!!!!!!!!!!!!loss: 1.519;rec: -1.412;kl: -32.75;log_p_y_by_z: -1.406;log_p_z_by_y: -40.85;\n",
      "!!!!!!!!!!!!!!!!!!!!!!!!!!!!!!!!!!!!!!!!!!!!!!!!!!loss: 1.322;rec: -1.238;kl: -28.42;log_p_y_by_z: -1.127;log_p_z_by_y: -37.72;\n",
      "!!!!!!!!!!!!!!!!!!!!!!!!!!!!!!!!!!!!!!!!!!!!!!!!!!loss: 1.186;rec: -1.121;kl: -24.61;log_p_y_by_z: -0.8992;log_p_z_by_y: -36.6;\n",
      "!!!!!!!!!!!!!!!!!!!!!!!!!!!!!!!!!!!!!!!!!!!!!!!!!!loss: 1.103;rec: -1.046;kl: -22.72;log_p_y_by_z: -0.8059;log_p_z_by_y: -36.64;\n",
      "!!!!!!!!!!!!!!!!!!!!!!!!!!!!!!!!!!!!!!!!!!!!!!!!!!loss: 1.036;rec: -0.9846;kl: -20.62;log_p_y_by_z: -0.7214;log_p_z_by_y: -36.18;\n",
      "!!!!!!!!!!!!!!!!!!!!!!!!!!!!!!!!!!!!!!!!!!!!!!!!!!loss: 0.9878;rec: -0.9406;kl: -18.58;log_p_y_by_z: -0.6577;log_p_z_by_y: -36.06;\n",
      "!!!!!!!!!!!!!!!!!!!!!!!!!!!!!!!!!!!!!!!!!!!!!!!!!!loss: 0.946;rec: -0.9027;kl: -16.37;log_p_y_by_z: -0.5975;log_p_z_by_y: -35.87;\n",
      "!!!!!!!!!!!!!!!!!!!!!!!!!!!!!!!!!!!!!!!!!!!!!!!!!!loss: 0.912;rec: -0.871;kl: -14.7;log_p_y_by_z: -0.5569;log_p_z_by_y: -35.97;\n",
      "!!!!!!!!!!!!!!!!!!!!!!!!!!!!!!!!!!!!!!!!!!!!!!!!!!loss: 0.8844;rec: -0.8465;kl: -14.32;log_p_y_by_z: -0.5223;log_p_z_by_y: -36.32;\n",
      "!!!!!!!!!!!!!!!!!!!!!!!!!!!!!!!!!!!!!!!!!!!!!!!!!!loss: 0.857;rec: -0.8259;kl: -13.66;log_p_y_by_z: -0.4478;log_p_z_by_y: -36.33;\n",
      "!!!!!!!!!!!!!!!!!!!!!!!!!!!!!!!!!!!!!!!!!!!!!!!!!!loss: 0.8406;rec: -0.8117;kl: -13.13;log_p_y_by_z: -0.4201;log_p_z_by_y: -36.74;\n",
      "!!!!!!!!!!!!!!!!!!!!!!!!!!!!!!!!!!!!!!!!!!!!!!!!!!loss: 0.8202;rec: -0.7948;kl: -12.79;log_p_y_by_z: -0.3813;log_p_z_by_y: -36.98;\n",
      "!!!!!!!!!!!!!!!!!!!!!!!!!!!!!!!!!!!!!!!!!!!!!!!!!!loss: 0.8015;rec: -0.7808;kl: -12.36;log_p_y_by_z: -0.3304;log_p_z_by_y: -37.44;\n",
      "!!!!!!!!!!!!!!!!!!!!!!!!!!!!!!!!!!!!!!!!!!!!!!!!!!loss: 0.7871;rec: -0.7659;kl: -11.63;log_p_y_by_z: -0.3277;log_p_z_by_y: -37.68;\n",
      "!!!!!!!!!!!!!!!!!!!!!!!!!!!!!!!!!!!!!!!!!!!!!!!!!!loss: 0.7781;rec: -0.7559;kl: -11.43;log_p_y_by_z: -0.336;log_p_z_by_y: -38.02;\n",
      "!!!!!!!!!!!!!!!!!!!!!!!!!!!!!!!!!!!!!!!!!!!!!!!!!!loss: 0.7588;rec: -0.7424;kl: -11.03;log_p_y_by_z: -0.2747;log_p_z_by_y: -38.42;\n",
      "!!!!!!!!!!!!!!!!!!!!!!!!!!!!!!!!!!!!!!!!!!!!!!!!!!loss: 0.7517;rec: -0.7359;kl: -10.34;log_p_y_by_z: -0.2611;log_p_z_by_y: -38.67;\n",
      "!!!!!!!!!!!!!!!!!!!!!!!!!!!!!!!!!!!!!!!!!!!!!!!!!!loss: 0.7335;rec: -0.7216;kl: -9.895;log_p_y_by_z: -0.2177;log_p_z_by_y: -39.18;\n",
      "!!!!!!!!!!!!!!!!!!!!!!!!!!!!!!!!!!!!!!!!!!!!!!!!!!loss: 0.7285;rec: -0.7154;kl: -9.49;log_p_y_by_z: -0.226;log_p_z_by_y: -39.65;\n",
      "!!!!!!!!!!!!!!!!!!!!!!!!!!!!!!!!!!!!!!!!!!!!!!!!!!loss: 0.717;rec: -0.7046;kl: -8.767;log_p_y_by_z: -0.211;log_p_z_by_y: -40.06;\n",
      "!!!!!!!!!!!!!!!!!!!!!!!!!!!!!!!!!!!!!!!!!!!!!!!!!!loss: 0.7045;rec: -0.6943;kl: -8.565;log_p_y_by_z: -0.188;log_p_z_by_y: -40.61;\n",
      "!!!!!!!!!!!!!!!!!!!!!!!!!!!!!!!!!!!!!!!!!!!!!!!!!!loss: 0.695;rec: -0.6853;kl: -8.207;log_p_y_by_z: -0.1789;log_p_z_by_y: -41.14;\n",
      "!!!!!!!!!!!!!!!!!!!!!!!!!!!!!!!!!!!!!!!!!!!!!!!!!!loss: 0.6876;rec: -0.6803;kl: -7.352;log_p_y_by_z: -0.1468;log_p_z_by_y: -41.24;\n",
      "!!!!!!!!!!!!!!!!!!!!!!!!!!!!!!!!!!!!!!!!!!!!!!!!!!loss: 0.6795;rec: -0.6707;kl: -6.816;log_p_y_by_z: -0.1561;log_p_z_by_y: -41.9;\n",
      "!!!!!!!!!!!!!!!!!!!!!!!!!!!!!!!!!!!!!!!!!!!!!!!!!!loss: 0.6689;rec: -0.664;kl: -6.512;log_p_y_by_z: -0.1145;log_p_z_by_y: -42.27;\n",
      "!!!!!!!!!!!!!!!!!!!!!!!!!!!!!!!!!!!!!!!!!!!!!!!!!!loss: 0.6663;rec: -0.6575;kl: -5.739;log_p_y_by_z: -0.1454;log_p_z_by_y: -42.66;\n",
      "!!!!!!!!!!!!!!!!!!!!!!!!!!!!!!!!!!!!!!!!!!!!!!!!!!loss: 0.6536;rec: -0.6461;kl: -5.629;log_p_y_by_z: -0.132;log_p_z_by_y: -43.33;\n",
      "!!!!!!!!!!!!!!!!!!!!!!!!!!!!!!!!!!!!!!!!!!!!!!!!!!loss: 0.647;rec: -0.6419;kl: -5.361;log_p_y_by_z: -0.1052;log_p_z_by_y: -43.82;\n",
      "!!!!!!!!!!!!!!!!!!!!!!!!!!!!!!!!!!!!!!!!!!!!!!!!!!loss: 0.6409;rec: -0.6359;kl: -4.791;log_p_y_by_z: -0.09803;log_p_z_by_y: -44.14;\n",
      "!!!!!!!!!!!!!!!!!!!!!!!!!!!!!!!!!!!!!!!!!!!!!!!!!!loss: 0.6304;rec: -0.6287;kl: -4.579;log_p_y_by_z: -0.06299;log_p_z_by_y: -44.69;\n",
      "!!!!!!!!!!!!!!!!!!!!!!!!!!!!!!!!!!!!!!!!!!!!!!!!!!loss: 0.624;rec: -0.6208;kl: -4.173;log_p_y_by_z: -0.07384;log_p_z_by_y: -45.22;\n",
      "!!!!!!!!!!!!!!!!!!!!!!!!!!!!!!!!!!!!!!!!!!!!!!!!!!loss: 0.6238;rec: -0.6182;kl: -3.973;log_p_y_by_z: -0.09603;log_p_z_by_y: -45.69;\n",
      "!!!!!!!!!!!!!!!!!!!!!!!!!!!!!!!!!!!!!!!!!!!!!!!!!!loss: 0.6127;rec: -0.6092;kl: -3.699;log_p_y_by_z: -0.07228;log_p_z_by_y: -46.23;\n",
      "!!!!!!!!!!!!!!!!!!!!!!!!!!!!!!!!!!!!!!!!!!!!!!!!!!loss: 0.6076;rec: -0.6062;kl: -3.22;log_p_y_by_z: -0.04659;log_p_z_by_y: -46.48;\n",
      "!!!!!!!!!!!!!!!!!!!!!!!!!!!!!!!!!!!!!!!!!!!!!!!!!!loss: 0.6058;rec: -0.6019;kl: -3.367;log_p_y_by_z: -0.07294;log_p_z_by_y: -47.14;\n",
      "!!!!!!!!!!!!!!!!!!!!!!!!!!!!!!!!!!!!!!!!!!!!!!!!!!loss: 0.6002;rec: -0.5963;kl: -2.885;log_p_y_by_z: -0.06748;log_p_z_by_y: -47.45;\n",
      "!!!!!!!!!!!!!!!!!!!!!!!!!!!!!!!!!!!!!!!!!!!!!!!!!!loss: 0.5903;rec: -0.5894;kl: -3.017;log_p_y_by_z: -0.03954;log_p_z_by_y: -47.87;\n",
      "!!!!!!!!!!!!!!!!!!!!!!!!!!!!!!!!!!!!!!!!!!!!!!!!!!loss: 0.5843;rec: -0.5854;kl: -2.367;log_p_y_by_z: -0.01229;log_p_z_by_y: -48.02;\n",
      "!!!!!!!!!!!!!!!!!!!!!!!!!!!!!!!!!!!!!!!!!!!!!!!!!!loss: 0.5814;rec: -0.5821;kl: -2.576;log_p_y_by_z: -0.01883;log_p_z_by_y: -48.49;\n",
      "!!!!!!!!!!!!!!!!!!!!!!!!!!!!!!!!!!!!!!!!!!!!!!!!!!loss: 0.5757;rec: -0.5755;kl: -2.17;log_p_y_by_z: -0.02367;log_p_z_by_y: -48.91;\n",
      "!!!!!!!!!!!!!!!!!!!!!!!!!!!!!!!!!!!!!!!!!!!!!!!!!!loss: 0.5678;rec: -0.5705;kl: -1.826;log_p_y_by_z: 0.009002;log_p_z_by_y: -49.23;\n",
      "!!!!!!!!!!!!!!!!!!!!!!!!!!!!!!!!!!!!!!!!!!!!!!!!!!loss: 0.5625;rec: -0.5655;kl: -1.879;log_p_y_by_z: 0.01104;log_p_z_by_y: -49.51;\n",
      "!!!!!!!!!!!!!!!!!!!!!!!!!!!!!!!!!!!!!!!!!!!!!!!!!!loss: 0.5601;rec: -0.5617;kl: -1.631;log_p_y_by_z: 0.0002551;log_p_z_by_y: -49.71;\n",
      "!!!!!!!!!!!!!!!!!!!!!!!!!!!!!!!!!!!!!!!!!!!!!!!!!!loss: 0.5534;rec: -0.5564;kl: -1.052;log_p_y_by_z: 0.01943;log_p_z_by_y: -50.08;\n",
      "!!!!!!!!!!!!!!!!!!!!!!!!!!!!!!!!!!!!!!!!!!!!!!!!!!loss: 0.5473;rec: -0.5522;kl: -0.9458;log_p_y_by_z: 0.03946;log_p_z_by_y: -50.35;\n",
      "!!!!!!!!!!!!!!!!!!!!!!!!!!!!!!!!!!!!!!!!!!!!!!!!!!loss: 0.5446;rec: -0.5486;kl: -0.3846;log_p_y_by_z: 0.03628;log_p_z_by_y: -50.65;\n",
      "!!!!!!!!!!!!!!!!!!!!!!!!!!!!!!!!!!!!!!!!!!!!!!!!!!loss: 0.5412;rec: -0.5443;kl: -0.2216;log_p_y_by_z: 0.02783;log_p_z_by_y: -50.9;\n",
      "!!!!!!!!!!!!!!!!!!!!!!!!!!!!!!!!!!!!!!!!!!!!!!!!!!loss: 0.5399;rec: -0.5406;kl: -0.0205;log_p_y_by_z: 0.00633;log_p_z_by_y: -51.32;\n",
      "!!!!!!!!!!!!!!!!!!!!!!!!!!!!!!!!!!!!!!!!!!!!!!!!!!loss: 0.5288;rec: -0.5344;kl: -0.1182;log_p_y_by_z: 0.05477;log_p_z_by_y: -51.56;\n",
      "!!!!!!!!!!!!!!!!!!!!!!!!!!!!!!!!!!!!!!!!!!!!!!!!!!loss: 0.5268;rec: -0.5305;kl: 0.09318;log_p_y_by_z: 0.03707;log_p_z_by_y: -51.98;\n",
      "!!!!!!!!!!!!!!!!!!!!!!!!!!!!!!!!!!!!!!!!!!!!!!!!!!loss: 0.521;rec: -0.5247;kl: 0.229;log_p_y_by_z: 0.03994;log_p_z_by_y: -52.23;\n",
      "!!!!!!!!!!!!!!!!!!!!!!!!!!!!!!!!!!!!!!!!!!!!!!!!!!loss: 0.5157;rec: -0.5215;kl: 0.2593;log_p_y_by_z: 0.06068;log_p_z_by_y: -52.52;\n",
      "!!!!!!!!!!!!!!!!!!!!!!!!!!!!!!!!!!!!!!!!!!!!!!!!!!loss: 0.5156;rec: -0.5197;kl: 0.1395;log_p_y_by_z: 0.04284;log_p_z_by_y: -52.86;\n",
      "!!!!!!!!!!!!!!!!!!!!!!!!!!!!!!!!!!!!!!!!!!!!!!!!!!loss: 0.5105;rec: -0.516;kl: 0.6347;log_p_y_by_z: 0.06105;log_p_z_by_y: -53.1;\n",
      "!!!!!!!!!!!!!!!!!!!!!!!!!!!!!!!!!!!!!!!!!!!!!!!!!!loss: 0.5015;rec: -0.51;kl: 0.6191;log_p_y_by_z: 0.09125;log_p_z_by_y: -53.19;\n",
      "!!!!!!!!!!!!!!!!!!!!!!!!!!!!!!!!!!!!!!!!!!!!!!!!!!loss: 0.501;rec: -0.5084;kl: 0.07363;log_p_y_by_z: 0.0744;log_p_z_by_y: -53.68;\n",
      "!!!!!!!!!!!!!!!!!!!!!!!!!!!!!!!!!!!!!!!!!!!!!!!!!!loss: 0.4966;rec: -0.5059;kl: 0.2651;log_p_y_by_z: 0.09535;log_p_z_by_y: -53.92;\n",
      "!!!!!!!!!!!!!!!!!!!!!!!!!!!!!!!!!!!!!!!!!!!!!!!!!!loss: 0.4916;rec: -0.5008;kl: 0.3482;log_p_y_by_z: 0.09611;log_p_z_by_y: -54.14;\n",
      "!!!!!!!!!!!!!!!!!!!!!!!!!!!!!!!!!!!!!!!!!!!!!!!!!!loss: 0.4885;rec: -0.4978;kl: 0.7063;log_p_y_by_z: 0.09963;log_p_z_by_y: -54.27;\n",
      "!!!!!!!!!!!!!!!!!!!!!!!!!!!!!!!!!!!!!!!!!!!!!loss: 0.487;rec: -0.4949;kl: 0.666;log_p_y_by_z: 0.0855;log_p_z_by_y: -54.57;\n",
      "Time Taken is 28.38365517059962 min\n"
     ]
    }
   ],
   "source": [
    "start_time = time.time()\n",
    "model.train_as_vaelp(train_loader, num_epochs=num_epochs, lr=lr)\n",
    "end_time = time.time()\n",
    "duration = end_time - start_time\n",
    "print(f\"Time Taken is {duration/60} min\")"
   ]
  },
  {
   "cell_type": "code",
   "execution_count": null,
   "metadata": {},
   "outputs": [],
   "source": []
  },
  {
   "cell_type": "code",
   "execution_count": null,
   "metadata": {},
   "outputs": [],
   "source": []
  },
  {
   "cell_type": "code",
   "execution_count": null,
   "metadata": {},
   "outputs": [],
   "source": []
  },
  {
   "cell_type": "code",
   "execution_count": null,
   "metadata": {},
   "outputs": [],
   "source": [
    "from moses.metrics import mol_passes_filters, QED, SA, logP\n",
    "from moses.metrics.utils import get_n_rings, get_mol\n",
    "\n",
    "\n",
    "def get_num_rings_6(mol):\n",
    "    r = mol.GetRingInfo()\n",
    "    return len([x for x in r.AtomRings() if len(x) > 6])\n",
    "\n",
    "\n",
    "def penalized_logP(mol_or_smiles, masked=False, default=-5):\n",
    "    mol = get_mol(mol_or_smiles)\n",
    "    if mol is None:\n",
    "        return default\n",
    "    reward = logP(mol) - SA(mol) - get_num_rings_6(mol)\n",
    "    if masked and not mol_passes_filters(mol):\n",
    "        return default\n",
    "    return reward"
   ]
  },
  {
   "cell_type": "code",
   "execution_count": null,
   "metadata": {},
   "outputs": [],
   "source": [
    "! mkdir -p saved_gentrl"
   ]
  },
  {
   "cell_type": "code",
   "execution_count": null,
   "metadata": {},
   "outputs": [],
   "source": [
    "model.save('./saved_gentrl/')"
   ]
  }
 ],
 "metadata": {
  "kernelspec": {
   "display_name": "Python 3",
   "language": "python",
   "name": "python3"
  },
  "language_info": {
   "codemirror_mode": {
    "name": "ipython",
    "version": 3
   },
   "file_extension": ".py",
   "mimetype": "text/x-python",
   "name": "python",
   "nbconvert_exporter": "python",
   "pygments_lexer": "ipython3",
   "version": "3.7.9"
  }
 },
 "nbformat": 4,
 "nbformat_minor": 4
}
