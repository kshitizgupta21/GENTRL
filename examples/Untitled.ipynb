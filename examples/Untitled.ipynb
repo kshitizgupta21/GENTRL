{
 "cells": [
  {
   "cell_type": "code",
   "execution_count": 49,
   "id": "mathematical-authorization",
   "metadata": {},
   "outputs": [],
   "source": [
    "import torch\n",
    "import numpy as np"
   ]
  },
  {
   "cell_type": "code",
   "execution_count": 66,
   "id": "controlling-queen",
   "metadata": {},
   "outputs": [
    {
     "data": {
      "text/plain": [
       "0.8233542117491429"
      ]
     },
     "execution_count": 66,
     "metadata": {},
     "output_type": "execute_result"
    }
   ],
   "source": [
    "trial = np.random.random()\n",
    "trial"
   ]
  },
  {
   "cell_type": "code",
   "execution_count": null,
   "id": "illegal-parallel",
   "metadata": {},
   "outputs": [],
   "source": [
    "num_sources = 1\n",
    "source_probs = np.arrray([1])"
   ]
  },
  {
   "cell_type": "code",
   "execution_count": null,
   "id": "hybrid-somewhere",
   "metadata": {},
   "outputs": [],
   "source": [
    "trial = np.random.random()\n",
    "\n",
    "        s = 0\n",
    "        # here self.num_sources =1 \n",
    "        for i in range(num_sources):\n",
    "            # here self.source_probs = [1]\n",
    "            if (trial >= s) and (trial <= s + source_probs[i]):\n",
    "                print(\"got triggered\")\n",
    "                bin_len = len(self.source_smiles[i])\n",
    "                sm = self.source_smiles[i][idx % bin_len]\n",
    "\n",
    "                props = self.source_props[i][idx % bin_len]\n",
    "                miss = self.source_missings[i][idx % bin_len]\n",
    "\n",
    "                if self.with_missings:\n",
    "                    return sm, torch.concat([props, miss])\n",
    "                else:\n",
    "                    return sm, props\n",
    "            # so our x here is a SMILE string\n",
    "            s += self.source_probs[i]"
   ]
  },
  {
   "cell_type": "code",
   "execution_count": 51,
   "id": "specified-diary",
   "metadata": {},
   "outputs": [],
   "source": [
    "d = torch.rand((3, 3), device='cuda', requires_grad=True)"
   ]
  },
  {
   "cell_type": "code",
   "execution_count": 57,
   "id": "right-watts",
   "metadata": {},
   "outputs": [],
   "source": [
    "??print"
   ]
  },
  {
   "cell_type": "code",
   "execution_count": 58,
   "id": "placed-content",
   "metadata": {},
   "outputs": [
    {
     "name": "stdout",
     "output_type": "stream",
     "text": [
      "23\n"
     ]
    }
   ],
   "source": [
    "print(\"2\", end=\"\")\n",
    "print(\"3\")"
   ]
  },
  {
   "cell_type": "code",
   "execution_count": 54,
   "id": "ancient-stylus",
   "metadata": {},
   "outputs": [],
   "source": [
    "e = d**2"
   ]
  },
  {
   "cell_type": "code",
   "execution_count": 59,
   "id": "distant-victory",
   "metadata": {},
   "outputs": [],
   "source": [
    "xs = torch.rand((5, 3, 64, 64))\n",
    "ys = torch.rand((5, 1000))\n",
    "dataset = torch.utils.data.TensorDataset(xs, ys)"
   ]
  },
  {
   "cell_type": "code",
   "execution_count": 65,
   "id": "completed-hands",
   "metadata": {},
   "outputs": [
    {
     "data": {
      "text/plain": [
       "torch.Size([1000])"
      ]
     },
     "execution_count": 65,
     "metadata": {},
     "output_type": "execute_result"
    }
   ],
   "source": [
    "dataset[2][1].shape"
   ]
  },
  {
   "cell_type": "code",
   "execution_count": 56,
   "id": "divine-taylor",
   "metadata": {},
   "outputs": [
    {
     "data": {
      "text/plain": [
       "[[0.023216886445879936, 0.22621478140354156, 0.30526620149612427],\n",
       " [0.5416929125785828, 0.4030209183692932, 0.004151985980570316],\n",
       " [0.6864627003669739, 0.05315402150154114, 0.7332966327667236]]"
      ]
     },
     "execution_count": 56,
     "metadata": {},
     "output_type": "execute_result"
    }
   ],
   "source": [
    "e.tolist()"
   ]
  },
  {
   "cell_type": "code",
   "execution_count": 2,
   "id": "unexpected-values",
   "metadata": {},
   "outputs": [
    {
     "data": {
      "text/plain": [
       "tensor([[0, 1],\n",
       "        [2, 3],\n",
       "        [4, 5],\n",
       "        [6, 7],\n",
       "        [8, 9]])"
      ]
     },
     "execution_count": 2,
     "metadata": {},
     "output_type": "execute_result"
    }
   ],
   "source": [
    "a = torch.arange(10).reshape(5,2)\n",
    "a"
   ]
  },
  {
   "cell_type": "code",
   "execution_count": 6,
   "id": "silent-interim",
   "metadata": {},
   "outputs": [
    {
     "data": {
      "text/plain": [
       "(tensor([[0],\n",
       "         [2],\n",
       "         [4],\n",
       "         [6],\n",
       "         [8]]),\n",
       " tensor([[1],\n",
       "         [3],\n",
       "         [5],\n",
       "         [7],\n",
       "         [9]]))"
      ]
     },
     "execution_count": 6,
     "metadata": {},
     "output_type": "execute_result"
    }
   ],
   "source": [
    "torch.split(a, 1, dim=1)"
   ]
  },
  {
   "cell_type": "code",
   "execution_count": 18,
   "id": "bigger-senator",
   "metadata": {},
   "outputs": [
    {
     "data": {
      "text/plain": [
       "array([4, 5])"
      ]
     },
     "execution_count": 18,
     "metadata": {},
     "output_type": "execute_result"
    }
   ],
   "source": [
    "c = torch.tensor([4, 5])\n",
    "c.numpy()"
   ]
  },
  {
   "cell_type": "code",
   "execution_count": 14,
   "id": "conservative-transcript",
   "metadata": {},
   "outputs": [],
   "source": [
    "a = torch.tensor([2., 3.], requires_grad=True)\n",
    "b = torch.tensor([6., 4.], requires_grad=True)"
   ]
  },
  {
   "cell_type": "code",
   "execution_count": 30,
   "id": "committed-converter",
   "metadata": {},
   "outputs": [],
   "source": [
    "f = a.to('cuda')"
   ]
  },
  {
   "cell_type": "code",
   "execution_count": 34,
   "id": "japanese-jewelry",
   "metadata": {},
   "outputs": [
    {
     "name": "stdout",
     "output_type": "stream",
     "text": [
      "tensor([2., 3.], device='cuda:0', grad_fn=<CopyBackwards>)\n"
     ]
    }
   ],
   "source": [
    "print(f)"
   ]
  },
  {
   "cell_type": "code",
   "execution_count": 29,
   "id": "appointed-oakland",
   "metadata": {},
   "outputs": [
    {
     "data": {
      "text/plain": [
       "device(type='cpu')"
      ]
     },
     "execution_count": 29,
     "metadata": {},
     "output_type": "execute_result"
    }
   ],
   "source": [
    "a.device"
   ]
  },
  {
   "cell_type": "code",
   "execution_count": null,
   "id": "aggressive-physics",
   "metadata": {},
   "outputs": [],
   "source": []
  },
  {
   "cell_type": "code",
   "execution_count": 15,
   "id": "robust-opportunity",
   "metadata": {},
   "outputs": [],
   "source": [
    "Q = 3*a**3 - b**2"
   ]
  },
  {
   "cell_type": "code",
   "execution_count": 19,
   "id": "surprised-passing",
   "metadata": {},
   "outputs": [
    {
     "data": {
      "text/plain": [
       "array([-12.,  65.], dtype=float32)"
      ]
     },
     "execution_count": 19,
     "metadata": {},
     "output_type": "execute_result"
    }
   ],
   "source": [
    "Q.detach().numpy()"
   ]
  },
  {
   "cell_type": "code",
   "execution_count": 20,
   "id": "unlikely-oregon",
   "metadata": {},
   "outputs": [
    {
     "data": {
      "text/plain": [
       "device(type='cpu')"
      ]
     },
     "execution_count": 20,
     "metadata": {},
     "output_type": "execute_result"
    }
   ],
   "source": [
    "a.device"
   ]
  },
  {
   "cell_type": "code",
   "execution_count": 21,
   "id": "cubic-wings",
   "metadata": {},
   "outputs": [],
   "source": [
    "t = torch.tensor([4, 53])\n",
    "t_n = t.numpy()"
   ]
  },
  {
   "cell_type": "code",
   "execution_count": 22,
   "id": "integral-officer",
   "metadata": {},
   "outputs": [
    {
     "data": {
      "text/plain": [
       "tensor([23, 53])"
      ]
     },
     "execution_count": 22,
     "metadata": {},
     "output_type": "execute_result"
    }
   ],
   "source": [
    "t[0] = 23\n",
    "t"
   ]
  },
  {
   "cell_type": "code",
   "execution_count": 23,
   "id": "mental-concept",
   "metadata": {},
   "outputs": [
    {
     "data": {
      "text/plain": [
       "array([23, 53])"
      ]
     },
     "execution_count": 23,
     "metadata": {},
     "output_type": "execute_result"
    }
   ],
   "source": [
    "t_n"
   ]
  },
  {
   "cell_type": "code",
   "execution_count": null,
   "id": "sized-simple",
   "metadata": {},
   "outputs": [],
   "source": []
  }
 ],
 "metadata": {
  "kernelspec": {
   "display_name": "Python 3",
   "language": "python",
   "name": "python3"
  },
  "language_info": {
   "codemirror_mode": {
    "name": "ipython",
    "version": 3
   },
   "file_extension": ".py",
   "mimetype": "text/x-python",
   "name": "python",
   "nbconvert_exporter": "python",
   "pygments_lexer": "ipython3",
   "version": "3.7.9"
  }
 },
 "nbformat": 4,
 "nbformat_minor": 5
}
